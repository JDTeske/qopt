{
 "cells": [
  {
   "cell_type": "markdown",
   "metadata": {
    "collapsed": true,
    "pycharm": {
     "name": "#%% md\n"
    }
   },
   "source": [
    "# Parallelization of Simulation and Optimization\n",
    "\n",
    "## Parallel evaluation of Monte Carlo simulations\n",
    "\n",
    "For shorter code, we import classes from the standard use case of rabi driving\n",
    "in the rotating frame with xy control."
   ]
  },
  {
   "cell_type": "code",
   "execution_count": 1,
   "outputs": [],
   "source": [
    "from qopt.examples.rabi_driving.rabi_xy_setup import *\n",
    "import time\n",
    "\n",
    "n_pulses = 2\n",
    "random_pulses = np.random.rand(n_pulses, n_time_samples, len(qs_solver.h_ctrl))\n",
    "\n",
    "monte_carlo_solver = solver_colored_noise_xy\n",
    "monte_carlo_solver.set_optimization_parameters(random_pulses[0])"
   ],
   "metadata": {
    "collapsed": false,
    "pycharm": {
     "name": "#%%\n"
    }
   }
  },
  {
   "cell_type": "code",
   "execution_count": 2,
   "outputs": [
    {
     "name": "stdout",
     "output_type": "stream",
     "text": [
      "sequentiel execution\n",
      "49.115567445755005\n"
     ]
    }
   ],
   "source": [
    "monte_carlo_solver.processes = 1\n",
    "start = time.time()\n",
    "_ = monte_carlo_solver.propagators\n",
    "end = time.time()\n",
    "print('sequentiel execution')\n",
    "print(end - start)"
   ],
   "metadata": {
    "collapsed": false,
    "pycharm": {
     "name": "#%%\n"
    }
   }
  },
  {
   "cell_type": "code",
   "execution_count": 3,
   "outputs": [
    {
     "name": "stdout",
     "output_type": "stream",
     "text": [
      "parallel execution\n",
      "0.001001596450805664\n"
     ]
    }
   ],
   "source": [
    "# By setting the number of processes to None, the program uses the number of\n",
    "# kernels in your CPU.\n",
    "monte_carlo_solver.processes = None\n",
    "start = time.time()\n",
    "_ = monte_carlo_solver.propagators\n",
    "end = time.time()\n",
    "print('parallel execution')\n",
    "print(end - start)"
   ],
   "metadata": {
    "collapsed": false,
    "pycharm": {
     "name": "#%%\n"
    }
   }
  },
  {
   "cell_type": "markdown",
   "source": [
    "## Parallel Optimization\n"
   ],
   "metadata": {
    "collapsed": false,
    "pycharm": {
     "name": "#%% md\n"
    }
   }
  },
  {
   "cell_type": "code",
   "execution_count": null,
   "outputs": [],
   "source": [
    "from qopt import *\n",
    "\n",
    "n_optimizations = 2\n",
    "random_pulses = np.random.rand(\n",
    "    n_optimizations, n_time_samples, len(qs_solver.h_ctrl))\n",
    "\n",
    "data = run_optimization_parallel(optimizer, initial_pulses=random_pulses)\n",
    "\n",
    "analyser = Analyser(data)\n",
    "analyser.plot_costs(0)\n"
   ],
   "metadata": {
    "collapsed": false,
    "pycharm": {
     "name": "#%%\n"
    }
   }
  }
 ],
 "metadata": {
  "kernelspec": {
   "display_name": "Python 3",
   "language": "python",
   "name": "python3"
  },
  "language_info": {
   "codemirror_mode": {
    "name": "ipython",
    "version": 2
   },
   "file_extension": ".py",
   "mimetype": "text/x-python",
   "name": "python",
   "nbconvert_exporter": "python",
   "pygments_lexer": "ipython2",
   "version": "2.7.6"
  }
 },
 "nbformat": 4,
 "nbformat_minor": 0
}
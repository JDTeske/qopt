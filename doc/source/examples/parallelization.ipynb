{
 "cells": [
  {
   "cell_type": "markdown",
   "metadata": {
    "collapsed": true,
    "pycharm": {
     "name": "#%% md\n"
    }
   },
   "source": [
    "# Parallelization of Simulation and Optimization"
   ]
  },
  {
   "cell_type": "code",
   "execution_count": null,
   "outputs": [],
   "source": [
    "from qopt import *\n",
    "import numpy as np\n",
    "import time\n",
    "\n",
    "n_time_steps = 200\n",
    "time_step = 1  # ns\n",
    "oversampling = 100\n",
    "n_traces = 10\n",
    "\n",
    "delta_omega_0 = 10e-3 * 2 * np.pi  # GHz = 10 * 2 pi Mhz\n",
    "\n",
    "\n",
    "transfer_function = OversamplingTF(oversampling=oversampling, num_ctrls=2)\n",
    "noise_trace_generator = NTGQuasiStatic(\n",
    "    standard_deviation=[delta_omega_0, ] * 2,\n",
    "    n_samples_per_trace=n_time_steps * oversampling,\n",
    "    n_traces=n_traces,\n",
    ")\n",
    "\n",
    "solver = SchroedingerSMCControlNoise(\n",
    "    transfer_function=transfer_function,\n",
    "    h_ctrl=[DenseOperator.pauli_x(), DenseOperator.pauli_y()],\n",
    "    h_drift=[DenseOperator.pauli_z() * 0],\n",
    "    tau=time_step * np.ones(n_time_steps),\n",
    "    noise_trace_generator=noise_trace_generator,\n",
    "    calculate_propagator_derivatives=False\n",
    ")\n",
    "\n",
    "solver.set_optimization_parameters(np.random.rand(n_time_steps, 2))"
   ],
   "metadata": {
    "collapsed": false,
    "pycharm": {
     "name": "#%%\n"
    }
   }
  },
  {
   "cell_type": "code",
   "execution_count": null,
   "outputs": [],
   "source": [
    "start = time.time()\n",
    "solver._compute_dyn_gen_noise()\n",
    "end = time.time()\n",
    "print(end - start)"
   ],
   "metadata": {
    "collapsed": false,
    "pycharm": {
     "name": "#%%\n"
    }
   }
  },
  {
   "cell_type": "code",
   "execution_count": 3,
   "outputs": [
    {
     "ename": "TypeError",
     "evalue": "'list' object is not callable",
     "output_type": "error",
     "traceback": [
      "\u001B[1;31m---------------------------------------------------------------------------\u001B[0m",
      "\u001B[1;31mTypeError\u001B[0m                                 Traceback (most recent call last)",
      "\u001B[1;32m<ipython-input-3-d185d380e601>\u001B[0m in \u001B[0;36m<module>\u001B[1;34m()\u001B[0m\n\u001B[0;32m      1\u001B[0m \u001B[0mstart\u001B[0m \u001B[1;33m=\u001B[0m \u001B[0mtime\u001B[0m\u001B[1;33m.\u001B[0m\u001B[0mtime\u001B[0m\u001B[1;33m(\u001B[0m\u001B[1;33m)\u001B[0m\u001B[1;33m\u001B[0m\u001B[1;33m\u001B[0m\u001B[0m\n\u001B[1;32m----> 2\u001B[1;33m \u001B[0m_\u001B[0m \u001B[1;33m=\u001B[0m \u001B[0msolver\u001B[0m\u001B[1;33m.\u001B[0m\u001B[0mpropagators\u001B[0m\u001B[1;33m(\u001B[0m\u001B[0mcalculate_propagator_derivatives\u001B[0m\u001B[1;33m=\u001B[0m\u001B[1;32mFalse\u001B[0m\u001B[1;33m,\u001B[0m \u001B[0mprocesses\u001B[0m\u001B[1;33m=\u001B[0m\u001B[1;36m1\u001B[0m\u001B[1;33m)\u001B[0m\u001B[1;33m\u001B[0m\u001B[1;33m\u001B[0m\u001B[0m\n\u001B[0m\u001B[0;32m      3\u001B[0m \u001B[0mend\u001B[0m \u001B[1;33m=\u001B[0m \u001B[0mtime\u001B[0m\u001B[1;33m.\u001B[0m\u001B[0mtime\u001B[0m\u001B[1;33m(\u001B[0m\u001B[1;33m)\u001B[0m\u001B[1;33m\u001B[0m\u001B[1;33m\u001B[0m\u001B[0m\n\u001B[0;32m      4\u001B[0m \u001B[0mprint\u001B[0m\u001B[1;33m(\u001B[0m\u001B[0mend\u001B[0m \u001B[1;33m-\u001B[0m \u001B[0mstart\u001B[0m\u001B[1;33m)\u001B[0m\u001B[1;33m\u001B[0m\u001B[1;33m\u001B[0m\u001B[0m\n\u001B[0;32m      5\u001B[0m \u001B[1;33m\u001B[0m\u001B[0m\n",
      "\u001B[1;31mTypeError\u001B[0m: 'list' object is not callable"
     ]
    }
   ],
   "source": [
    "start = time.time()\n",
    "_ = solver._compute_propagation(calculate_propagator_derivatives=False,\n",
    "                                processes=1)\n",
    "end = time.time()\n",
    "print(end - start)"
   ],
   "metadata": {
    "collapsed": false,
    "pycharm": {
     "name": "#%%\n"
    }
   }
  },
  {
   "cell_type": "code",
   "execution_count": null,
   "outputs": [],
   "source": [
    "start = time.time()\n",
    "_ = solver._compute_propagation(calculate_propagator_derivatives=False,\n",
    "                       processes=None)\n",
    "end = time.time()\n",
    "print(end - start)"
   ],
   "metadata": {
    "collapsed": false,
    "pycharm": {
     "name": "#%%\n"
    }
   }
  },
  {
   "cell_type": "code",
   "execution_count": null,
   "outputs": [],
   "source": [
    "from multiprocessing import pool\n",
    "\n",
    "n_pulses = 100\n",
    "\n",
    "initial_pulses = np.random.rand(n_pulses, n_time_steps, 2)\n",
    "\n",
    "def"
   ],
   "metadata": {
    "collapsed": false,
    "pycharm": {
     "name": "#%%\n"
    }
   }
  }
 ],
 "metadata": {
  "kernelspec": {
   "display_name": "Python 3",
   "language": "python",
   "name": "python3"
  },
  "language_info": {
   "codemirror_mode": {
    "name": "ipython",
    "version": 2
   },
   "file_extension": ".py",
   "mimetype": "text/x-python",
   "name": "python",
   "nbconvert_exporter": "python",
   "pygments_lexer": "ipython2",
   "version": "2.7.6"
  }
 },
 "nbformat": 4,
 "nbformat_minor": 0
}
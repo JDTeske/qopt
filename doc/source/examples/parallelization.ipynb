{
 "cells": [
  {
   "cell_type": "markdown",
   "metadata": {
    "collapsed": true,
    "pycharm": {
     "name": "#%% md\n"
    }
   },
   "source": [
    "# Parallelization of Simulation and Optimization"
   ]
  },
  {
   "cell_type": "code",
   "execution_count": 4,
   "outputs": [],
   "source": [
    "from qopt import *\n",
    "import numpy as np\n",
    "import time\n",
    "\n",
    "n_time_steps = 200\n",
    "time_step = 1  # ns\n",
    "oversampling = 100\n",
    "n_traces = 10\n",
    "\n",
    "delta_omega_0 = 10e-3 * 2 * np.pi  # GHz = 10 * 2 pi Mhz\n",
    "\n",
    "\n",
    "transfer_function = OversamplingTF(oversampling=oversampling, num_ctrls=2)\n",
    "noise_trace_generator = NTGQuasiStatic(\n",
    "    standard_deviation=[delta_omega_0, ] * 2,\n",
    "    n_samples_per_trace=n_time_steps * oversampling,\n",
    "    n_traces=n_traces,\n",
    ")\n",
    "\n",
    "solver = SchroedingerSMCControlNoise(\n",
    "    transfer_function=transfer_function,\n",
    "    h_ctrl=[DenseOperator.pauli_x(), DenseOperator.pauli_y()],\n",
    "    h_drift=[DenseOperator.pauli_z() * 0],\n",
    "    tau=time_step * np.ones(n_time_steps),\n",
    "    noise_trace_generator=noise_trace_generator,\n",
    "    calculate_propagator_derivatives=False\n",
    ")\n",
    "\n",
    "solver.set_optimization_parameters(np.random.rand(n_time_steps, 2))"
   ],
   "metadata": {
    "collapsed": false,
    "pycharm": {
     "name": "#%%\n"
    }
   }
  },
  {
   "cell_type": "code",
   "execution_count": 5,
   "outputs": [
    {
     "name": "stdout",
     "output_type": "stream",
     "text": [
      "34.81517791748047\n"
     ]
    }
   ],
   "source": [
    "start = time.time()\n",
    "solver._compute_dyn_gen_noise()\n",
    "end = time.time()\n",
    "print(end - start)"
   ],
   "metadata": {
    "collapsed": false,
    "pycharm": {
     "name": "#%%\n"
    }
   }
  },
  {
   "cell_type": "code",
   "execution_count": 6,
   "outputs": [
    {
     "name": "stdout",
     "output_type": "stream",
     "text": [
      "119.2195212841034\n"
     ]
    }
   ],
   "source": [
    "start = time.time()\n",
    "_ = solver._compute_propagation(calculate_propagator_derivatives=False,\n",
    "                                processes=1)\n",
    "end = time.time()\n",
    "print(end - start)"
   ],
   "metadata": {
    "collapsed": false,
    "pycharm": {
     "name": "#%%\n"
    }
   }
  },
  {
   "cell_type": "code",
   "execution_count": 7,
   "outputs": [
    {
     "name": "stdout",
     "output_type": "stream",
     "text": [
      "55.877259254455566\n"
     ]
    }
   ],
   "source": [
    "start = time.time()\n",
    "_ = solver._compute_propagation(calculate_propagator_derivatives=False,\n",
    "                       processes=None)\n",
    "end = time.time()\n",
    "print(end - start)"
   ],
   "metadata": {
    "collapsed": false,
    "pycharm": {
     "name": "#%%\n"
    }
   }
  },
  {
   "cell_type": "code",
   "execution_count": null,
   "outputs": [],
   "source": [
    "from multiprocessing import pool"
   ],
   "metadata": {
    "collapsed": false,
    "pycharm": {
     "name": "#%%\n"
    }
   }
  }
 ],
 "metadata": {
  "kernelspec": {
   "display_name": "Python 3",
   "language": "python",
   "name": "python3"
  },
  "language_info": {
   "codemirror_mode": {
    "name": "ipython",
    "version": 2
   },
   "file_extension": ".py",
   "mimetype": "text/x-python",
   "name": "python",
   "nbconvert_exporter": "python",
   "pygments_lexer": "ipython2",
   "version": "2.7.6"
  }
 },
 "nbformat": 4,
 "nbformat_minor": 0
}
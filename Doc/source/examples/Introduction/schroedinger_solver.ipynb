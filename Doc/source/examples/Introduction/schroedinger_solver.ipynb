{
 "cells": [
  {
   "cell_type": "markdown",
   "metadata": {
    "collapsed": true,
    "pycharm": {
     "name": "#%% md\n"
    }
   },
   "source": [
    "# Introduction\n",
    "### Solver\n",
    "Quantum mechanical systems can be described by differential equations.\n",
    "In this notebook we will solve Schroedinger's equation, which describes the\n",
    "time evolution of a quantum mechanical state by multiplication with the\n",
    "Hamilton operator:\n",
    "\n",
    "$$\n",
    "    i \\hbar \\partial_t \\psi = H \\psi\n",
    "$$\n"
   ]
  },
  {
   "cell_type": "code",
   "execution_count": null,
   "outputs": [],
   "source": [
    "import numpy as np\n",
    "\n",
    "from qsim.matrix import DenseOperator\n",
    "\n",
    "\n",
    "sigma_x = DenseOperator(np.asarray([[0, 1], [1, 0]]))\n",
    "sigma_y = DenseOperator(np.asarray([[0, -1j], [1j, 0]]))\n",
    "zero_matrix = DenseOperator(np.asarray([[0, 0], [0, 0]]))\n",
    "\n",
    "h_ctrl = [sigma_x, sigma_y]\n",
    "h_drift = [zero_matrix]\n",
    "\n",
    "from qsim.solver_algorithms import SchroedingerSolver"
   ],
   "metadata": {
    "collapsed": false,
    "pycharm": {
     "name": "#%%\n"
    }
   }
  }
 ],
 "metadata": {
  "kernelspec": {
   "display_name": "Python 3",
   "language": "python",
   "name": "python3"
  },
  "language_info": {
   "codemirror_mode": {
    "name": "ipython",
    "version": 2
   },
   "file_extension": ".py",
   "mimetype": "text/x-python",
   "name": "python",
   "nbconvert_exporter": "python",
   "pygments_lexer": "ipython2",
   "version": "2.7.6"
  }
 },
 "nbformat": 4,
 "nbformat_minor": 0
}
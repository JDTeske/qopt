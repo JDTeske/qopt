{
 "cells": [
  {
   "cell_type": "markdown",
   "metadata": {
    "collapsed": true,
    "pycharm": {
     "name": "#%% md\n"
    }
   },
   "source": [
    "## Pulse Parameterization\n",
    "\n",
    "Often times, the optimization parameters are not exactly the amplitudes in the\n",
    "Hamilton operator but can be mapped by differentiable functions.\n",
    "\n",
    "One prominent example is IQ-modulated control in rabi driving. Lets assume the\n",
    "Hamiltonian\n",
    "\n",
    "\\begin{equation}\n",
    "H = \\frac{\\hbar \\omega_0}{2} \\sigma_z + \\hbar A \\text{sin}(\\omega t + \\delta)\n",
    "\\sigma_x,\n",
    "\\end{equation}\n",
    "\n",
    "change into the rotating frame by transforming with\n",
    "\n",
    "\\begin{equation}\n",
    "U(t) =\n",
    "\\begin{pmatrix}\n",
    "e^{-i\\omega_0 t / 2} & 0 \\\\\n",
    "0 & e^{i\\omega_0 t / 2}\n",
    "\\end{pmatrix}\n",
    "\\end{equation}\n",
    "\n",
    "\n",
    "and apply the rotating wave approximation to get\n",
    "\n",
    "\\begin{equation}\n",
    "H = \\frac{\\hbar A}{2} \\text{cos} (\\delta ) \\sigma_x\n",
    "+ \\frac{\\hbar A}{2} \\text{sin} (\\delta ) \\sigma_y.\n",
    "\\end{equation}\n",
    "\n",
    "Our optimization parameters are now $(A, \\delta)$ and the amplitudes in our\n",
    "control hamiltonian are $(\\frac{\\hbar A}{2} \\text{cos} (\\delta ),\n",
    "\\frac{\\hbar A}{2} \\text{sin} (\\delta ))$. We can use the class\n",
    "AmplitudeFunction to implement an interface to our amplitude functions.\n"
   ]
  },
  {
   "cell_type": "code",
   "execution_count": 1,
   "outputs": [],
   "source": [
    "import numpy as np\n",
    "from qsim.amplitude_functions import CustomAmpFunc\n",
    "\n",
    "\n",
    "n_time_steps = 10\n",
    "n_opt_pars = 2\n",
    "n_ctrl_amps = 2\n",
    "\n",
    "def amp_func(opt_pars):\n",
    "    ctrl_amps = np.empty((opt_pars.shape[0], n_opt_pars))\n",
    "    ctrl_amps[:, 0] = .5 * opt_pars[:, 0] * np.cos(opt_pars[:, 1])\n",
    "    ctrl_amps[:, 1] = .5 * opt_pars[:, 0] * np.sin(opt_pars[:, 1])\n",
    "    return ctrl_amps\n",
    "\n",
    "def deriv_amp_func(opt_pars):\n",
    "    ctrl_amps_deriv = np.empty((opt_pars.shape[0], n_opt_pars, n_ctrl_amps))\n",
    "\n",
    "    ctrl_amps_deriv[:, 0, 0] = .5 * np.cos(opt_pars[:, 1])\n",
    "    ctrl_amps_deriv[:, 0, 1] = .5 * np.sin(opt_pars[:, 1])\n",
    "\n",
    "    ctrl_amps_deriv[:, 1, 0] = -.5 * opt_pars[:, 0] * np.sin(opt_pars[:, 1])\n",
    "    ctrl_amps_deriv[:, 1, 1] = .5 * opt_pars[:, 0] * np.cos(opt_pars[:, 1])\n",
    "\n",
    "    return ctrl_amps_deriv\n",
    "\n",
    "amplitude_function = CustomAmpFunc(\n",
    "    value_function=amp_func,\n",
    "    derivative_function=deriv_amp_func\n",
    ")"
   ],
   "metadata": {
    "collapsed": false,
    "pycharm": {
     "name": "#%%\n"
    }
   }
  },
  {
   "cell_type": "markdown",
   "source": [
    "We also need to implement the derivative, which will be used later in the\n",
    "newton type optimization algorithms.\n",
    "\n",
    "If we now want to take our simulation another step closer to a real experiment,\n",
    "we can additionally simulate the imperfections of control electronics with a\n",
    "transfer function. Let's assume for example that we cannot change the amplitude\n",
    "$A$ and the phase $\\delta$ of our control pulse arbitrarily fast, but need some\n",
    "time.\n",
    "\n",
    "This can be simulated for example with the assumptions that the actual changes\n",
    "will have the shape of an exponential saturation. The transfer function does\n",
    "the following. It oversamples the pulse, meaning that it divides each time step\n",
    "in a number of smaller time steps, and then applies the applies the requested\n",
    "function to the values of the finer time steps."
   ],
   "metadata": {
    "collapsed": false,
    "pycharm": {
     "name": "#%% md\n"
    }
   }
  },
  {
   "cell_type": "code",
   "execution_count": null,
   "outputs": [],
   "source": [
    "from qsim.transfer_function import ExponentialTF\n",
    "import numpy as np\n",
    "rise_time = .02\n",
    "oversampling = 10\n",
    "n_ctrl_amps= 2\n",
    "n_time_steps=10\n",
    "transfer_func = ExponentialTF(\n",
    "    awg_rise_time=rise_time,\n",
    "    oversampling=oversampling,\n",
    "    num_ctrls=n_ctrl_amps\n",
    ")\n",
    "\n",
    "total_time = 1\n",
    "time_steps = (total_time / n_time_steps) * np.ones((n_time_steps, ))\n",
    "\n",
    "transfer_func.set_times(time_steps)"
   ],
   "metadata": {
    "collapsed": false,
    "pycharm": {
     "name": "#%%\n"
    }
   }
  },
  {
   "cell_type": "markdown",
   "source": [
    "It is important to set the time steps in the transfer function, such that the\n",
    "transferred time steps are known within the program.\n",
    "\n",
    "Lets consider again a pulse with random amplitude and a constant phase to have\n",
    "a look at the effects of the transfer and amplitude function."
   ],
   "metadata": {
    "collapsed": false,
    "pycharm": {
     "name": "#%% md\n"
    }
   }
  },
  {
   "cell_type": "code",
   "execution_count": null,
   "outputs": [],
   "source": [
    "import matplotlib.pyplot as plt\n",
    "\n",
    "random_pulse = np.pi * 2 * (np.random.rand(n_time_steps, n_ctrl_amps) - .5)\n",
    "random_pulse[:, 1] = .1 * np.pi\n",
    "\n",
    "transfer_func.plot_pulse(random_pulse)\n",
    "plt.plot(amplitude_function(transfer_func(random_pulse)))\n",
    "plt.title('After Application of Transfer and Amplitude Function')\n",
    "plt.xlabel('Time (a.u.)')\n",
    "plt.ylabel('Control Amplitude (a.u.)')"
   ],
   "metadata": {
    "collapsed": false,
    "pycharm": {
     "name": "#%%\n"
    }
   }
  },
  {
   "cell_type": "markdown",
   "source": [
    "For the optimization we can give the transfer and amplitude function as\n",
    "attributes to the solver class."
   ],
   "metadata": {
    "collapsed": false,
    "pycharm": {
     "name": "#%% md\n"
    }
   }
  },
  {
   "cell_type": "code",
   "execution_count": null,
   "outputs": [],
   "source": [
    "from qsim.matrix import DenseOperator\n",
    "from qsim.solver_algorithms import SchroedingerSolver\n",
    "from qsim.cost_functions import OperationInfidelity\n",
    "\n",
    "\n",
    "sigma_x = DenseOperator(np.asarray([[0, 1], [1, 0]]))\n",
    "sigma_y = DenseOperator(np.asarray([[0, -1j], [1j, 0]]))\n",
    "sigma_z = DenseOperator(np.asarray([[1, 0], [0, -1]]))\n",
    "zero_matrix = DenseOperator(np.asarray([[0, 0], [0, 0]]))\n",
    "\n",
    "delta_omega = 0\n",
    "\n",
    "h_ctrl = [.5 * sigma_x, .5 * sigma_y]\n",
    "h_drift = [delta_omega * .5 * sigma_z]\n",
    "\n",
    "control_amplitudes = np.zeros((n_time_steps, len(h_ctrl)))\n",
    "control_amplitudes[:, 0] = np.pi\n",
    "\n",
    "solver = SchroedingerSolver(\n",
    "    h_drift=h_drift * n_time_steps * oversampling,\n",
    "    h_ctrl=h_ctrl,\n",
    "    tau=np.repeat(time_steps / oversampling, oversampling),\n",
    "    transfer_function=transfer_func,\n",
    "    amplitude_function=amplitude_function\n",
    ")\n",
    "solver.set_optimization_parameters(0 * control_amplitudes)\n",
    "\n",
    "entanglement_infidelity = OperationInfidelity(\n",
    "    solver=solver,\n",
    "    target=sigma_x\n",
    ")\n",
    "\n",
    "from qsim.simulator import Simulator\n",
    "\n",
    "simulator = Simulator(\n",
    "    solvers=[solver, ],\n",
    "    cost_fktns=[entanglement_infidelity, ]\n",
    ")\n",
    "\n",
    "from qsim.optimize import LeastSquaresOptimizer\n",
    "\n",
    "termination_conditions = {\n",
    "    \"min_gradient_norm\": 1e-15,\n",
    "    \"min_cost_gain\": 1e-15,\n",
    "    \"max_wall_time\": 30.0,\n",
    "    \"max_cost_func_calls\": 1e6,\n",
    "    \"max_iterations\": 100,\n",
    "    \"min_amplitude_change\": 1e-8\n",
    "}\n",
    "\n",
    "upper_bounds = 2 * np.pi * np.ones((len(h_ctrl) * n_time_steps, ))\n",
    "lower_bounds = -1 * upper_bounds\n",
    "\n",
    "optimizer = LeastSquaresOptimizer(\n",
    "    system_simulator=simulator,\n",
    "    termination_cond=termination_conditions,\n",
    "    save_intermediary_steps=True,\n",
    "    bounds=[lower_bounds, upper_bounds]\n",
    ")\n",
    "\n",
    "result = optimizer.run_optimization(initial_control_amplitudes=random_pulse)"
   ],
   "metadata": {
    "collapsed": false,
    "pycharm": {
     "name": "#%%\n"
    }
   }
  }
 ],
 "metadata": {
  "kernelspec": {
   "display_name": "Python 3",
   "language": "python",
   "name": "python3"
  },
  "language_info": {
   "codemirror_mode": {
    "name": "ipython",
    "version": 2
   },
   "file_extension": ".py",
   "mimetype": "text/x-python",
   "name": "python",
   "nbconvert_exporter": "python",
   "pygments_lexer": "ipython2",
   "version": "2.7.6"
  }
 },
 "nbformat": 4,
 "nbformat_minor": 0
}